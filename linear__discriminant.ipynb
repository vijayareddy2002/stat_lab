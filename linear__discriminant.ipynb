{
  "nbformat": 4,
  "nbformat_minor": 0,
  "metadata": {
    "colab": {
      "provenance": [],
      "collapsed_sections": [],
      "authorship_tag": "ABX9TyOA+eUlj1pqG3nLpkEECZrp",
      "include_colab_link": true
    },
    "kernelspec": {
      "name": "python3",
      "display_name": "Python 3"
    },
    "language_info": {
      "name": "python"
    }
  },
  "cells": [
    {
      "cell_type": "markdown",
      "metadata": {
        "id": "view-in-github",
        "colab_type": "text"
      },
      "source": [
        "<a href=\"https://colab.research.google.com/github/vijayareddy2002/stat_lab/blob/main/linear__discriminant.ipynb\" target=\"_parent\"><img src=\"https://colab.research.google.com/assets/colab-badge.svg\" alt=\"Open In Colab\"/></a>"
      ]
    },
    {
      "cell_type": "code",
      "execution_count": null,
      "metadata": {
        "colab": {
          "base_uri": "https://localhost:8080/"
        },
        "id": "wIL-B4xkYL-C",
        "outputId": "865b71af-710d-4761-9802-5d06f7e65ee8"
      },
      "outputs": [
        {
          "output_type": "stream",
          "name": "stdout",
          "text": [
            "1 1 1 1 1 0 0 0 0 0\n",
            "x is \n",
            "[[1.000e+00 1.000e+00 1.000e+00 1.000e+00 1.000e+00 1.000e+00 1.000e+00\n",
            "  1.000e+00 1.000e+00 1.000e+00]\n",
            " [1.300e+03 1.260e+03 1.220e+03 1.118e+03 1.060e+03 1.140e+03 1.100e+03\n",
            "  1.020e+03 9.800e+02 9.400e+02]\n",
            " [2.700e+00 3.700e+00 2.900e+00 2.500e+00 3.900e+00 2.100e+00 3.500e+00\n",
            "  3.300e+00 2.300e+00 3.100e+00]] (3, 10)\n",
            "transpose\n",
            "[[1.000e+00 1.300e+03 2.700e+00]\n",
            " [1.000e+00 1.260e+03 3.700e+00]\n",
            " [1.000e+00 1.220e+03 2.900e+00]\n",
            " [1.000e+00 1.118e+03 2.500e+00]\n",
            " [1.000e+00 1.060e+03 3.900e+00]\n",
            " [1.000e+00 1.140e+03 2.100e+00]\n",
            " [1.000e+00 1.100e+03 3.500e+00]\n",
            " [1.000e+00 1.020e+03 3.300e+00]\n",
            " [1.000e+00 9.800e+02 2.300e+00]\n",
            " [1.000e+00 9.400e+02 3.100e+00]]\n",
            "shape a\n",
            "(10, 3)\n",
            "multi1\n",
            "[[1.0000000e+01 1.1138000e+04 3.0000000e+01]\n",
            " [1.1138000e+04 1.2533524e+07 3.3417000e+04]\n",
            " [3.0000000e+01 3.3417000e+04 9.3300000e+01]]\n",
            "[[ 1.24703969e+01 -8.67911162e-03 -9.01200808e-01]\n",
            " [-8.67911162e-03  7.81147031e-06 -7.10133664e-06]\n",
            " [-9.01200808e-01 -7.10133664e-06  3.03036759e-01]]\n",
            "[[5.000e+00]\n",
            " [5.958e+03]\n",
            " [1.570e+01]]\n",
            "beta values\n",
            "[[-3.50701498e+00]\n",
            " [ 3.03369101e-03]\n",
            " [ 2.09363311e-01]]\n",
            "discriminant function\n",
            "give values to differentiate: \n",
            "1000 2.9\n",
            "[0.13382963]\n"
          ]
        }
      ],
      "source": [
        "import numpy as np\n",
        "'''n=int(input(\"enter no of columns\"))\n",
        "x=int(input(\"enter no of rows \"))\n",
        "ar=[]\n",
        "o=[ 1 for i in range(0,x)]\n",
        "ar.append(o)\n",
        "for i in range(0,n):\n",
        "  l=input()\n",
        "  s=l.split(\" \")\n",
        "  r=[ float(i) for i in s]\n",
        "  ar.append(r)'''\n",
        "ar=[[1,1,1,1,1,1,1,1,1,1],[1300,1260,1220,1118,1060,1140,1100,1020,980,940],[2.7,3.7,2.9,2.5,3.9,2.1,3.5,3.3,2.3,3.1]]\n",
        "y=input()\n",
        "b=list(y.split(\" \"))\n",
        "c=[int(i) for i in b]\n",
        "z=np.array([c])\n",
        "k=z.transpose()\n",
        "atrans=np.array(ar)\n",
        "print(\"x is \")\n",
        "print(atrans,end=\" \")\n",
        "print(atrans.shape)\n",
        "a=atrans.transpose()\n",
        "print(\"transpose\")\n",
        "print(a)\n",
        "print(\"shape a\")\n",
        "print(a.shape)\n",
        "multi_1=atrans.dot(a)\n",
        "print(\"multi1\")\n",
        "print(multi_1)\n",
        "inv1=np.linalg.inv(multi_1)\n",
        "print(inv1)\n",
        "multi_2=atrans.dot(k)\n",
        "print(multi_2)\n",
        "beta=inv1.dot(multi_2)\n",
        "print(\"beta values\")\n",
        "print(beta)\n",
        "print(\"discriminant function\")\n",
        "print(\"give values to differentiate: \")\n",
        "ad=input()\n",
        "ad=[float(i) for i in ad.split(\" \")]\n",
        "s1=beta[0]\n",
        "for i in range(1,len(beta)):\n",
        "  s1=s1+(beta[i]*ad[i-1])\n",
        "print(s1)\n",
        "if( s1<=0 and s1!=0.9):\n",
        "  print(\"belongs to 1\")\n",
        "else:\n",
        "  print(\"belongs to 2\")\n",
        "\n"
      ]
    },
    {
      "cell_type": "code",
      "source": [
        "z=(-3.5070)+(0.0032)*(1000)+(0.2395*(2.9))\n",
        "print(z)"
      ],
      "metadata": {
        "colab": {
          "base_uri": "https://localhost:8080/"
        },
        "id": "Wf0xHvg0nvUn",
        "outputId": "f43c17bc-8f43-45cf-ddd8-d5a1f2b4c179"
      },
      "execution_count": null,
      "outputs": [
        {
          "output_type": "stream",
          "name": "stdout",
          "text": [
            "0.38755000000000006\n"
          ]
        }
      ]
    },
    {
      "cell_type": "code",
      "source": [
        "#fischers\n",
        "from math import log\n",
        "ar=[[2.95,2.53,3.57,3.16,2.58,2.16,3.27,],[6.63,7.79,5.65,5.47,4.46,6.22,3.52]]\n",
        "d=np.array(ar) #an use data frame\n",
        "d1=d.transpose()\n",
        "y=[1,1,1,1,0,0,0,]\n",
        "a=np.array(ar)\n",
        "b=np.array([y])\n",
        "x1=[]\n",
        "x2=[]\n",
        "for i in range(0,len(y)):\n",
        "  if(b[0][i]==1):\n",
        "        x1.append(d1[i])\n",
        "  else:\n",
        "    x2.append(d1[i])\n",
        "print(\"a is :\")\n",
        "x_1=np.array(x1)\n",
        "print(x_1)\n",
        "print(\"b is :\")\n",
        "x_2=np.array(x2)\n",
        "print(x_2)\n",
        "mean1=np.mean(x_1,axis=0)\n",
        "mean2=np.mean(x_2,axis=0)\n",
        "print(\"mean1:\")\n",
        "print(mean1)\n",
        "print(\"mean2\")\n",
        "print(mean2)\n",
        "print(\"mean x:\")\n",
        "mean_x=np.mean(d1,axis=0)\n",
        "print(mean_x)\n",
        "exmu=np.subtract(d1,mean_x)\n",
        "print(exmu)\n",
        "c1=((exmu.transpose()).dot(exmu))/len(ar[0])\n",
        "print(c1)\n",
        "cinv=np.linalg.inv(c1)\n",
        "xk=np.array([2.81,5.46])\n",
        "def fish(m,c,prob,xk):\n",
        "   f=m.dot(c)\n",
        "   xktrans=xk.transpose()\n",
        "   res1=f.dot(xktrans)\n",
        "   #print(res1)\n",
        "   d=m.transpose()\n",
        "   z=(f.dot(d))*(0.5)\n",
        "   #print(z)\n",
        "   k=np.subtract(res1,z)\n",
        "   k=k+log(prob)\n",
        "   return k\n",
        "f1=fish(mean1,cinv,len(x_1)/len(d1),xk)\n",
        "f2=fish(mean2,cinv,len(x_2)/len(d1),xk)\n",
        "print(f1)\n",
        "print(f2)\n",
        "if(f1>f2):\n",
        "  print(\"belongs to f1\")\n",
        "else:\n",
        "  print(\"belongs to f2\")\n",
        "  "
      ],
      "metadata": {
        "colab": {
          "base_uri": "https://localhost:8080/"
        },
        "id": "4Y7pG19ixiRC",
        "outputId": "9502d2e7-552c-435f-f0f9-ea407ff22176"
      },
      "execution_count": null,
      "outputs": [
        {
          "output_type": "stream",
          "name": "stdout",
          "text": [
            "a is :\n",
            "[[2.95 6.63]\n",
            " [2.53 7.79]\n",
            " [3.57 5.65]\n",
            " [3.16 5.47]]\n",
            "b is :\n",
            "[[2.58 4.46]\n",
            " [2.16 6.22]\n",
            " [3.27 3.52]]\n",
            "mean1:\n",
            "[3.0525 6.385 ]\n",
            "mean2\n",
            "[2.67       4.73333333]\n",
            "mean x:\n",
            "[2.88857143 5.67714286]\n",
            "[[ 0.06142857  0.95285714]\n",
            " [-0.35857143  2.11285714]\n",
            " [ 0.68142857 -0.02714286]\n",
            " [ 0.27142857 -0.20714286]\n",
            " [-0.30857143 -1.21714286]\n",
            " [-0.72857143  0.54285714]\n",
            " [ 0.38142857 -2.15714286]]\n",
            "[[ 0.20598367 -0.23093265]\n",
            " [-0.23093265  1.69216327]]\n",
            "43.828180992167894\n",
            "43.863020178214434\n",
            "belongs to f2\n"
          ]
        }
      ]
    }
  ]
}