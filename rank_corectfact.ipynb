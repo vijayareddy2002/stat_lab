{
  "nbformat": 4,
  "nbformat_minor": 0,
  "metadata": {
    "colab": {
      "provenance": [],
      "collapsed_sections": [],
      "authorship_tag": "ABX9TyO8QaygfJIgFxPOqMERSdpa",
      "include_colab_link": true
    },
    "kernelspec": {
      "name": "python3",
      "display_name": "Python 3"
    },
    "language_info": {
      "name": "python"
    }
  },
  "cells": [
    {
      "cell_type": "markdown",
      "metadata": {
        "id": "view-in-github",
        "colab_type": "text"
      },
      "source": [
        "<a href=\"https://colab.research.google.com/github/vijayareddy2002/stat_lab/blob/main/rank_corectfact.ipynb\" target=\"_parent\"><img src=\"https://colab.research.google.com/assets/colab-badge.svg\" alt=\"Open In Colab\"/></a>"
      ]
    },
    {
      "cell_type": "code",
      "execution_count": 2,
      "metadata": {
        "id": "AwhHbBZjivLx"
      },
      "outputs": [],
      "source": [
        "def rank(a):\n",
        "    s=sorted(a)\n",
        "    n=len(a)\n",
        "    s=s[::-1]\n",
        "    i=0\n",
        "    d=[]\n",
        "    count=[]\n",
        "    while i<n:\n",
        "        k=s.count(s[i])\n",
        "        if(k==1):\n",
        "            d.append(i+1)\n",
        "            i=i+1\n",
        "        else:\n",
        "            m=0\n",
        "            for j in range(i+1,i+k+1):\n",
        "                m=m+j\n",
        "            m=m/k\n",
        "            for j in range(k):\n",
        "                d.append(m)\n",
        "            i=i+k\n",
        "            count.append(k)\n",
        "    r=[]\n",
        "    for i in range(n):\n",
        "        j=s.index(a[i])\n",
        "        r.append(d[j])\n",
        "    return r,count\n"
      ]
    },
    {
      "cell_type": "code",
      "source": [
        "def correction_fact(a):\n",
        "    if(len(a)!=0):\n",
        "            c_sum=0\n",
        "            for i in a:\n",
        "                 c_sum=c_sum+(i*(i**2)-1)/12\n",
        "            return c_sum\n",
        "    else:\n",
        "        return 0\n",
        "\n",
        "a=[68,64,75,50,64,80,75,40,55,64]\n",
        "b=[62,58,68,45,81,60,68,48,50,70]\n",
        "r_x,c_x=rank(a)\n",
        "r_y,c_y=rank(b)\n",
        "print(c_x)\n",
        "print(r_x,r_y)\n",
        "di=[]\n",
        "di2=[]\n",
        "for i in range(0,len(r_x)):\n",
        "    di.append(r_x[i]-r_y[i])\n",
        "    di2.append((r_x[i]-r_y[i])**2)\n",
        "print(di,di2)\n",
        "cf_x=correction_fact(c_x)\n",
        "print(cf_x)\n",
        "cf_y=correction_fact(c_y)\n",
        "print(cf_y)\n",
        "z=sum(di2)+cf_x+cf_y\n",
        "print(\"sigma is :\",z)\n",
        "rho=1-(6*z)/(len(a)*((len(a)**2)-1))\n",
        "print(rho,end=\" \")"
      ],
      "metadata": {
        "colab": {
          "base_uri": "https://localhost:8080/"
        },
        "id": "rmVorZIJi3nZ",
        "outputId": "1b35a2ea-b07e-4d22-8b59-3903c78630f0"
      },
      "execution_count": 3,
      "outputs": [
        {
          "output_type": "stream",
          "name": "stdout",
          "text": [
            "[2, 3]\n",
            "[4, 6.0, 2.5, 9, 6.0, 1, 2.5, 10, 8, 6.0] [5, 7, 3.5, 10, 1, 6, 3.5, 9, 8, 2]\n",
            "[-1, -1.0, -1.0, -1, 5.0, -5, -1.0, 1, 0, 4.0] [1, 1.0, 1.0, 1, 25.0, 25, 1.0, 1, 0, 16.0]\n",
            "2.75\n",
            "0.5833333333333334\n",
            "sigma is : 75.33333333333333\n",
            "0.5434343434343434 "
          ]
        }
      ]
    },
    {
      "cell_type": "code",
      "source": [],
      "metadata": {
        "id": "SlMtSGfui_C6"
      },
      "execution_count": null,
      "outputs": []
    },
    {
      "cell_type": "markdown",
      "source": [],
      "metadata": {
        "id": "m_6jKkdEi3PL"
      }
    }
  ]
}