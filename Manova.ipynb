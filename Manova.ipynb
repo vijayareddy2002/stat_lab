{
  "nbformat": 4,
  "nbformat_minor": 0,
  "metadata": {
    "colab": {
      "provenance": [],
      "collapsed_sections": [],
      "authorship_tag": "ABX9TyPjh7SOohyLMuV96nIqpr2W",
      "include_colab_link": true
    },
    "kernelspec": {
      "name": "python3",
      "display_name": "Python 3"
    },
    "language_info": {
      "name": "python"
    }
  },
  "cells": [
    {
      "cell_type": "markdown",
      "metadata": {
        "id": "view-in-github",
        "colab_type": "text"
      },
      "source": [
        "<a href=\"https://colab.research.google.com/github/vijayareddy2002/stat_lab/blob/main/Manova.ipynb\" target=\"_parent\"><img src=\"https://colab.research.google.com/assets/colab-badge.svg\" alt=\"Open In Colab\"/></a>"
      ]
    },
    {
      "cell_type": "code",
      "execution_count": null,
      "metadata": {
        "colab": {
          "base_uri": "https://localhost:8080/"
        },
        "id": "syPobRr9eI_B",
        "outputId": "cf98cd72-9293-4055-bafa-d6c97da8559b"
      },
      "outputs": [
        {
          "output_type": "stream",
          "name": "stdout",
          "text": [
            "[[[9, 3], [6, 2], [9, 7]], [[0, 4], [2, 0]], [[3, 8], [1, 9], [2, 7]]]\n",
            "[[8.0, 4.0], [1.0, 2.0], [2.0, 8.0]]\n",
            "[8.0, 4.0]\n",
            "[4.0, 5.0]\n",
            "[10.0, 24.0]\n",
            "[78.0, 48.0]\n",
            "[88.0, 72.0]\n",
            "1.0\n",
            "-11.0\n",
            "-12.0\n",
            "REGression B\n",
            "[[ 78. -12.]\n",
            " [-12.  48.]]\n",
            "[[10.  1.]\n",
            " [ 1. 24.]]\n",
            "[[ 88. -11.]\n",
            " [-11.  72.]]\n",
            "0.0384553499597747 8.198859563778381 3.259166726901249 \n",
            "reject h0\n"
          ]
        },
        {
          "output_type": "stream",
          "name": "stderr",
          "text": [
            "/usr/local/lib/python3.7/dist-packages/ipykernel_launcher.py:9: VisibleDeprecationWarning: Creating an ndarray from ragged nested sequences (which is a list-or-tuple of lists-or-tuples-or ndarrays with different lengths or shapes) is deprecated. If you meant to do this, you must specify 'dtype=object' when creating the ndarray.\n",
            "  if __name__ == '__main__':\n"
          ]
        }
      ],
      "source": [
        "#manova table\n",
        "#reading information---\n",
        "#t=int(input(\"enter no of treaments\"))\n",
        "import math\n",
        "import scipy.stats as stats\n",
        "l=[[[9,3],[6,2],[9,7]],[[0,4],[2,0]],[[3,8],[1,9],[2,7]]]\n",
        "print(l)\n",
        "import numpy as np\n",
        "a=np.array(l)\n",
        "a_t=a.transpose()\n",
        "'''for i in range(0,t):\n",
        "    s=[]\n",
        "    z=int(input(\"enter no of lists in treatmennt\"))\n",
        "    for k in range(0,z):\n",
        "        m=input()\n",
        "        g=list(m.split(\" \"))\n",
        "        g=[int(x) for x in g]\n",
        "        s.append(g)\n",
        "    l.append(s)\n",
        "print(l)'''\n",
        "s=0\n",
        "yi=[]\n",
        "for i in range(0,len(l)):\n",
        "    s1=0\n",
        "    s2=0\n",
        "    v=[]\n",
        "    for j in range(0,len(l[i])):\n",
        "        s1=s1+l[i][j][0]\n",
        "        s2=s2+l[i][j][1]\n",
        "    v.append(s1/len(l[i]))\n",
        "    v.append(s2/len(l[i]))\n",
        "    yi.append(v)\n",
        "print(yi)\n",
        "ybar=[]\n",
        "s2=0\n",
        "f=[]\n",
        "f1=[]\n",
        "for i in  range(0,len(l)):\n",
        "    for j in range(0,len(l[i])):\n",
        "               f.append(l[i][j][0])        \n",
        "               f1.append(l[i][j][1])\n",
        "#print(f)\n",
        "#print(f1)\n",
        "z=yi[0]\n",
        "print(z)\n",
        "ybar.append(sum(f)/len(f))\n",
        "ybar.append(sum(f1)/len(f))\n",
        "print(ybar)\n",
        "ssee=[]\n",
        "ssrr=[]\n",
        "sstt=[]\n",
        "for b in range(0,len(ybar)):\n",
        "   sse=0\n",
        "   sst=0\n",
        "   for i in range(0,len(l)):\n",
        "      for k in range(0,len(l[i])):\n",
        "          sse=sse+(l[i][k][b]-yi[i][b])**2\n",
        "          sst=sst+(l[i][k][b]-ybar[b])**2\n",
        "   ssee.append(sse)\n",
        "   sstt.append(sst)\n",
        "   ssr=sst-sse\n",
        "   ssrr.append(ssr)\n",
        "print(ssee)\n",
        "print(ssrr)\n",
        "print(sstt)\n",
        "#cross product calculation\n",
        "ssey=0\n",
        "ssty=0\n",
        "for i in range(0,len(l)):\n",
        "    for j in range(0,len(l[i])):\n",
        "        ssey=ssey+(l[i][j][0]*l[i][j][1])-(yi[i][0]*yi[i][1])\n",
        "        ssty=ssty+(l[i][j][0]*l[i][j][1])-(ybar[0]*ybar[1])\n",
        "print(ssey)\n",
        "print(ssty)\n",
        "ssry=ssty-ssey\n",
        "print(ssry)\n",
        "print(\"REGression B\")\n",
        "B=np.array([[ssrr[0],ssry],[ssry,ssrr[1]]])\n",
        "W=np.array([[ssee[0],ssey],[ssey,ssee[1]]])\n",
        "T=np.array([[sstt[0],ssty],[ssty,sstt[1]]])\n",
        "print(B)\n",
        "print(W)\n",
        "print(T)\n",
        "numb=len(l[0])+len(l[1])+len(l[2])\n",
        "dr=len(l)-1\n",
        "de=len(l[0])+len(l[1])+len(l[2])-(len(l)-1)\n",
        "dt=len(l[0])+len(l[1])+len(l[2])-1\n",
        "d1=np.linalg.det(W)\n",
        "d2=np.linalg.det(T)\n",
        "lambstar=d1/d2\n",
        "print(lambstar,end=\" \")\n",
        "temp=math.pow(lambstar,0.5)\n",
        "Fcalt=(numb-len(l)-1)*((1-temp))\n",
        "Fcalt1=Fcalt/(temp*(len(l)-1))\n",
        "print(Fcalt1,end=\" \")\n",
        "Ftab=stats.f.ppf(1-0.05,2*(dr),2*(((dt+1)-(dr))))\n",
        "print(Ftab,end=\" \")\n",
        "if(Fcalt1 > Ftab):\n",
        "    print(\"\\nreject h0\")\n",
        "else:\n",
        "  print(\"accepted h0\")"
      ]
    },
    {
      "cell_type": "code",
      "source": [
        "#"
      ],
      "metadata": {
        "id": "RXps8DL_Ez0B"
      },
      "execution_count": null,
      "outputs": []
    }
  ]
}