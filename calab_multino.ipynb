{
  "nbformat": 4,
  "nbformat_minor": 0,
  "metadata": {
    "colab": {
      "provenance": [],
      "collapsed_sections": [],
      "include_colab_link": true
    },
    "kernelspec": {
      "name": "python3",
      "display_name": "Python 3"
    },
    "language_info": {
      "name": "python"
    }
  },
  "cells": [
    {
      "cell_type": "markdown",
      "metadata": {
        "id": "view-in-github",
        "colab_type": "text"
      },
      "source": [
        "<a href=\"https://colab.research.google.com/github/vijayareddy2002/stat_lab/blob/main/calab_multino.ipynb\" target=\"_parent\"><img src=\"https://colab.research.google.com/assets/colab-badge.svg\" alt=\"Open In Colab\"/></a>"
      ]
    },
    {
      "cell_type": "code",
      "execution_count": null,
      "metadata": {
        "id": "xHVpndOmsLar"
      },
      "outputs": [],
      "source": [
        "def multiplication_matrix(a,b):\n",
        "    if(len(a[0])==len(b)):\n",
        "        c=np.zeros((len(a),len(b[0])),dtype='float')\n",
        "        for i in range(0,len(a)):\n",
        "            for j in range(0,len(b[0])):\n",
        "                sum=0\n",
        "                for s in range(0,len(a[0])):\n",
        "                      sum+=(a[i][s])*(b[s][j])\n",
        "                c[i][j]=sum\n",
        "    return c"
      ]
    },
    {
      "cell_type": "code",
      "source": [
        "#transpose\n",
        "import numpy as np\n",
        "def transpose_matrix(a):\n",
        "    t=np.zeros((len(a[0]),len(a)),dtype='float')\n",
        "    for i in range(0,len(a[0])):\n",
        "          for j in range(0,len(a)):\n",
        "                t[i][j]=a[j][i]\n",
        "    return t"
      ],
      "metadata": {
        "id": "Re9GZYlTsWcq"
      },
      "execution_count": null,
      "outputs": []
    },
    {
      "cell_type": "code",
      "source": [
        "def inverse(l):\n",
        "  if(len(l)==3 and len(l[0]==3)):\n",
        "    r=len(l)\n",
        "    c=len(l[0])\n",
        "    adj=[]\n",
        "    det=0\n",
        "    for i in range(0,r):\n",
        "            g=[]\n",
        "            for j in range(0,c):\n",
        "                    z=[]\n",
        "                    for k in range(0,r):\n",
        "                          for s in  range(0,c):\n",
        "                                  if i!=k and s!=j:\n",
        "                                         z.append(l[k][s])\n",
        "                    if((i+j)%2==0):\n",
        "                            d=1*(z[0]*z[3]-z[1]*z[2])\n",
        "                            g.append(d)\n",
        "                    else:\n",
        "                        d=-1*(z[0]*z[3]-z[1]*z[2])\n",
        "                        g.append(d)\n",
        "            adj.append(g)\n",
        "    det=det+adj[0][0]*l[0][0]+(adj[0][1]*l[0][1])+(adj[2][0]*l[2][0]);\n",
        "    print(\"det is :\",det);\n",
        "    k=transpose_matrix(adj)/det\n",
        "    return k\n",
        "  else:\n",
        "    return np.linalg.inv(l)"
      ],
      "metadata": {
        "id": "29n08Z80sYEU"
      },
      "execution_count": null,
      "outputs": []
    },
    {
      "cell_type": "code",
      "source": [
        "import numpy as np\n",
        "import math\n",
        "import scipy.stats as stats\n",
        "a=[[1,1,1,1,1,1,1,1,1,1,1,1],\n",
        "[9,8,7,14,12,10,7,4,6,5,7,6],\n",
        "[62,58,64,60,63,57,55,56,59,61,57,60],]\n",
        "y=np.array([[100,110,105,94,95,99,104,108,105,98,105,110]])\n",
        "ytrans=transpose_matrix(y)\n",
        "print(\"ytarns is :\")\n",
        "print(ytrans)\n",
        "trans=np.array(a)\n",
        "atrans=transpose_matrix(trans)\n",
        "z1=multiplication_matrix(trans,atrans)\n",
        "print(\" xtranspose x is :\")\n",
        "print(z1)\n",
        "print(\"invrse of xtransposex is :\")\n",
        "d=inverse(z1)\n",
        "print(d)\n",
        "c1=multiplication_matrix(trans,ytrans)\n",
        "print(\"x transpose y is :\",c1)\n",
        "#print(d,c1)\n",
        "beta=multiplication_matrix(d,c1)\n",
        "print(\"beta values is :\",beta)\n",
        "q=np.array([100,110,105,94,95,99,104,108,105,98,105,110])\n",
        "ycap=[]\n",
        "error=[]\n",
        "for i in range(0,len(trans)):\n",
        "  s=133.460-1.2485*(trans[i][1])-0.3510*(trans[i][2])\n",
        "  e=q[i]-s\n",
        "  ycap.append(s)\n",
        "  error.append(e)\n",
        "print(error)\n",
        "sse=[i**2 for i in error]\n",
        "s=0\n",
        "for i in sse:\n",
        "  s=s+i\n",
        "sse_1=s\n",
        "mean_y=q.mean()\n",
        "print(mean_y)\n",
        "s=0\n",
        "for i in q:\n",
        "   s=s+(mean_y-i)**2\n",
        "sst=s\n",
        "ssr=sst-sse_1\n",
        "print(ssr)\n",
        "rsquare=ssr/sst\n",
        "if(rsquare>0.90):\n",
        "  print(\"good fit\")\n",
        "else:\n",
        "  print(\"bad fit\")\n",
        "#anova testing\n",
        "msr=ssr/(len(beta)-1)\n",
        "mse=sse_1/(len(q)-len(beta)) \n",
        "F=msr/mse\n",
        "ft_tr=stats.f.ppf(1-0.05,len(beta)-1,len(q)-len(beta))\n",
        "#get table value and decide by anova\n",
        "#Beta checking\n",
        "t=[]\n",
        "for i in range(len(beta)):\n",
        "   p=mse*(z1[i][i])\n",
        "   h=math.pow(p,0.5)\n",
        "   t.append(h)\n",
        "print(t)\n",
        "tablevalue2=stats.t.ppf(1-(0.05)/2,)\n",
        "#if()\n",
        "#get table value of t and compare and print -- then gets complete"
      ],
      "metadata": {
        "colab": {
          "base_uri": "https://localhost:8080/",
          "height": 929
        },
        "id": "T7hhLgsssho2",
        "outputId": "60ff9778-792f-4ec9-f6ee-4a669424d018"
      },
      "execution_count": null,
      "outputs": [
        {
          "output_type": "stream",
          "name": "stdout",
          "text": [
            "ytarns is :\n",
            "[[100.]\n",
            " [110.]\n",
            " [105.]\n",
            " [ 94.]\n",
            " [ 95.]\n",
            " [ 99.]\n",
            " [104.]\n",
            " [108.]\n",
            " [105.]\n",
            " [ 98.]\n",
            " [105.]\n",
            " [110.]]\n",
            " xtranspose x is :\n",
            "[[1.2000e+01 9.5000e+01 7.1200e+02]\n",
            " [9.5000e+01 8.4500e+02 5.6630e+03]\n",
            " [7.1200e+02 5.6630e+03 4.2334e+04]]\n",
            "invrse of xtransposex is :\n",
            "det is : 90542.0\n",
            "[[ 4.08944026e+01  1.14046520e-01 -7.03043891e-01]\n",
            " [ 1.14046520e-01  1.17514524e-02 -3.49009300e-03]\n",
            " [-7.03043891e-01 -3.49009300e-03  1.23147269e-02]]\n",
            "x transpose y is : [[ 1233.]\n",
            " [ 9636.]\n",
            " [73094.]]\n",
            "beta values is : [[133.46048243]\n",
            " [ -1.24850346]\n",
            " [ -0.35100837]]\n",
            "[-31.860500000000002, -11.015000000000015, 66.41699999999999]\n",
            "102.75\n",
            "-5217.389574249999\n",
            "bad fit\n",
            "[86.00495779701694, 721.7075000180897, 5108.313199920079]\n"
          ]
        },
        {
          "output_type": "error",
          "ename": "TypeError",
          "evalue": "ignored",
          "traceback": [
            "\u001b[0;31m---------------------------------------------------------------------------\u001b[0m",
            "\u001b[0;31mTypeError\u001b[0m                                 Traceback (most recent call last)",
            "\u001b[0;32m<ipython-input-4-738b5ae9789a>\u001b[0m in \u001b[0;36m<module>\u001b[0;34m\u001b[0m\n\u001b[1;32m     62\u001b[0m    \u001b[0mt\u001b[0m\u001b[0;34m.\u001b[0m\u001b[0mappend\u001b[0m\u001b[0;34m(\u001b[0m\u001b[0mh\u001b[0m\u001b[0;34m)\u001b[0m\u001b[0;34m\u001b[0m\u001b[0;34m\u001b[0m\u001b[0m\n\u001b[1;32m     63\u001b[0m \u001b[0mprint\u001b[0m\u001b[0;34m(\u001b[0m\u001b[0mt\u001b[0m\u001b[0;34m)\u001b[0m\u001b[0;34m\u001b[0m\u001b[0;34m\u001b[0m\u001b[0m\n\u001b[0;32m---> 64\u001b[0;31m \u001b[0mtablevalue2\u001b[0m\u001b[0;34m=\u001b[0m\u001b[0mstats\u001b[0m\u001b[0;34m.\u001b[0m\u001b[0mt\u001b[0m\u001b[0;34m.\u001b[0m\u001b[0mppf\u001b[0m\u001b[0;34m(\u001b[0m\u001b[0;36m1\u001b[0m\u001b[0;34m-\u001b[0m\u001b[0;34m(\u001b[0m\u001b[0;36m0.05\u001b[0m\u001b[0;34m)\u001b[0m\u001b[0;34m/\u001b[0m\u001b[0;36m2\u001b[0m\u001b[0;34m,\u001b[0m\u001b[0;34m)\u001b[0m\u001b[0;34m\u001b[0m\u001b[0;34m\u001b[0m\u001b[0m\n\u001b[0m\u001b[1;32m     65\u001b[0m \u001b[0;31m#if()\u001b[0m\u001b[0;34m\u001b[0m\u001b[0;34m\u001b[0m\u001b[0;34m\u001b[0m\u001b[0m\n\u001b[1;32m     66\u001b[0m \u001b[0;31m#get table value of t and compare and print -- then gets complete\u001b[0m\u001b[0;34m\u001b[0m\u001b[0;34m\u001b[0m\u001b[0;34m\u001b[0m\u001b[0m\n",
            "\u001b[0;32m/usr/local/lib/python3.7/dist-packages/scipy/stats/_distn_infrastructure.py\u001b[0m in \u001b[0;36mppf\u001b[0;34m(self, q, *args, **kwds)\u001b[0m\n\u001b[1;32m   2115\u001b[0m \u001b[0;34m\u001b[0m\u001b[0m\n\u001b[1;32m   2116\u001b[0m         \"\"\"\n\u001b[0;32m-> 2117\u001b[0;31m         \u001b[0margs\u001b[0m\u001b[0;34m,\u001b[0m \u001b[0mloc\u001b[0m\u001b[0;34m,\u001b[0m \u001b[0mscale\u001b[0m \u001b[0;34m=\u001b[0m \u001b[0mself\u001b[0m\u001b[0;34m.\u001b[0m\u001b[0m_parse_args\u001b[0m\u001b[0;34m(\u001b[0m\u001b[0;34m*\u001b[0m\u001b[0margs\u001b[0m\u001b[0;34m,\u001b[0m \u001b[0;34m**\u001b[0m\u001b[0mkwds\u001b[0m\u001b[0;34m)\u001b[0m\u001b[0;34m\u001b[0m\u001b[0;34m\u001b[0m\u001b[0m\n\u001b[0m\u001b[1;32m   2118\u001b[0m         \u001b[0mq\u001b[0m\u001b[0;34m,\u001b[0m \u001b[0mloc\u001b[0m\u001b[0;34m,\u001b[0m \u001b[0mscale\u001b[0m \u001b[0;34m=\u001b[0m \u001b[0mmap\u001b[0m\u001b[0;34m(\u001b[0m\u001b[0masarray\u001b[0m\u001b[0;34m,\u001b[0m \u001b[0;34m(\u001b[0m\u001b[0mq\u001b[0m\u001b[0;34m,\u001b[0m \u001b[0mloc\u001b[0m\u001b[0;34m,\u001b[0m \u001b[0mscale\u001b[0m\u001b[0;34m)\u001b[0m\u001b[0;34m)\u001b[0m\u001b[0;34m\u001b[0m\u001b[0;34m\u001b[0m\u001b[0m\n\u001b[1;32m   2119\u001b[0m         \u001b[0margs\u001b[0m \u001b[0;34m=\u001b[0m \u001b[0mtuple\u001b[0m\u001b[0;34m(\u001b[0m\u001b[0mmap\u001b[0m\u001b[0;34m(\u001b[0m\u001b[0masarray\u001b[0m\u001b[0;34m,\u001b[0m \u001b[0margs\u001b[0m\u001b[0;34m)\u001b[0m\u001b[0;34m)\u001b[0m\u001b[0;34m\u001b[0m\u001b[0;34m\u001b[0m\u001b[0m\n",
            "\u001b[0;31mTypeError\u001b[0m: _parse_args() missing 1 required positional argument: 'df'"
          ]
        }
      ]
    },
    {
      "cell_type": "code",
      "source": [
        "y=np.array([[1,2,3,4,5]])\n",
        "print(len(y[0]))"
      ],
      "metadata": {
        "colab": {
          "base_uri": "https://localhost:8080/"
        },
        "id": "sJm67PXQxm7Z",
        "outputId": "dbf0b26c-5b4e-4654-dc6d-3922f57b5e51"
      },
      "execution_count": null,
      "outputs": [
        {
          "output_type": "stream",
          "name": "stdout",
          "text": [
            "5\n"
          ]
        }
      ]
    },
    {
      "cell_type": "code",
      "source": [
        "def ycapvals(beta,pos,x1,x2,x3):\n",
        "  y1cap=[]\n",
        "  print(pos[0])\n",
        "  for i in range(0,len(x1)):\n",
        "     z=pos[0]+pos[1]*(x1[i])+pos[2]*(x2[i])+pos[3]*(x3[i])\n",
        "     y1cap.append(z)\n",
        "  return y1cap"
      ],
      "metadata": {
        "id": "2SA6Enxg08Rt"
      },
      "execution_count": null,
      "outputs": []
    },
    {
      "cell_type": "code",
      "source": [
        "#multi variate linear regression\n",
        "import scipy.stats as sc\n",
        "import math\n",
        "xtrans=np.array([[1,1,1,1,1,1,1,1,1,1,1,1],[9,8,7,14,12,10,7,4,6,5,7,6],[62,58,64,60,63,57,55,56,59,61,57,60],[1,1.3,1.2,0.8,0.8,0.9,1.0,1.2,1.1,1.0,1.2,1.2]])\n",
        "ytrans=np.array([[10,12,11,9,9,10,11,12,11,10,11,12],[100,110,105,94,95,99,104,108,105,98,103,110]])\n",
        "y=transpose_matrix(ytrans)\n",
        "print(\"y value is :\",y)\n",
        "x=transpose_matrix(xtrans)\n",
        "print(x)\n",
        "multi1=multiplication_matrix(xtrans,x)\n",
        "print(\"multi1:\",multi1)\n",
        "inv1=inverse(multi1)\n",
        "print(\"inverse:\",inv1)\n",
        "multi2=multiplication_matrix(xtrans,y)\n",
        "print(\"multi2 :\")\n",
        "print(multi2)\n",
        "beta=multiplication_matrix(inv1,multi2)\n",
        "print(\"beta:\",beta)\n",
        "i=0\n",
        "j=1\n",
        "row=0\n",
        "k=0\n",
        "x1=[9,8,7,14,12,10,7,4,6,5,7,6]\n",
        "x2=[62,58,64,60,63,57,55,56,59,61,57,60]\n",
        "x3=[1,1.3,1.2,0.8,0.8,0.9,1.0,1.2,1.1,1.0,1.2,1.2]\n",
        "#try in loop by netx week--tried with function\n",
        "res=[]\n",
        "for i in range(0,len(beta[0])):\n",
        "  l=[]\n",
        "  for j in range(0,len(beta)):\n",
        "      l.append(beta[j][i])\n",
        "  k=ycapvals(beta,l,x1,x2,x3)\n",
        "  res.append(k)\n",
        "print(res)\n",
        "res=np.array(res)\n",
        "re=transpose_matrix(res)\n",
        "print(re)\n",
        "print(re.shape)\n",
        "print(y.shape)\n",
        "yerror=np.subtract(y,re)\n",
        "print(\"substraction:\",yerror)\n",
        "yerror=transpose_matrix(yerror)\n",
        "btrans=transpose_matrix(beta)\n",
        "print(\"beta trans:\",btrans)\n",
        "for i in range(0,len(yerror)):\n",
        "  sse=[j**2 for j in yerror[i]]\n",
        "  ssee=sum(sse)\n",
        "  u=np.array(yerror[i])\n",
        "  z=u.mean()\n",
        "  sst=[(z-k)**2 for k in sse]\n",
        "  sstt=sum(sst)\n",
        "  ssr=sstt-ssee\n",
        "  r=ssr/sstt\n",
        "  if(r>0.90):\n",
        "    print(\"y\",(i+1),\" is a good fit\")\n",
        "  else:\n",
        "    print(\"y\",(i+1),\" is a bad fit\")\n",
        "  #using anova\n",
        "  print(\"using anova:\")\n",
        "  msr=ssr/(len(btrans[i])-1)\n",
        "  mse=ssee/(len(u)-len(btrans[i]))\n",
        "  print(\"msr for y\",(i+1),msr)\n",
        "  print(\"mse for y\",(i+1),mse)\n",
        "  fcal=msr/mse\n",
        "  print(\"faclculated:\",fcal)\n",
        "  t=sc.f.ppf(1-0.05,len(btrans[i])-1,len(u)-len(btrans[i]))\n",
        "  print(\"table value is :\",t)\n",
        "  if(fcal>t):\n",
        "    print(\"we reject the y\",(i+1),\"according to anova\")\n",
        "  else:\n",
        "    print(\"we accept the y\",(i+1),\"acccording to anova\")\n",
        "  #for variables in beta of y1 and y2 each variable contributing or not\n",
        "  t=[]\n",
        "  for v in range(0,len(btrans[i])):\n",
        "           d=mse*(inv1[v][v])\n",
        "           s=math.pow(d,0.5)\n",
        "           res=btrans[i][v]/s\n",
        "           t.append(res)\n",
        "  t_beta=sc.t.ppf(1-(0.05/2),len(u)-len(btrans[i]))\n",
        "  for m in  range(0,len(t)):\n",
        "      if(abs(t[m])>t_beta):\n",
        "            print(\"y\",(i+1),\": beta \",m ,\"is contributiing to model\")\n",
        "      else:\n",
        "        print(\"y\",(i+1),\": beta \",m,\"is not contributing to model\")\n"
      ],
      "metadata": {
        "colab": {
          "base_uri": "https://localhost:8080/"
        },
        "id": "_rp9ac0ebSc_",
        "outputId": "f88a1c26-6fcb-41a3-d978-6b0591f912e7"
      },
      "execution_count": null,
      "outputs": [
        {
          "output_type": "stream",
          "name": "stdout",
          "text": [
            "y value is : [[ 10. 100.]\n",
            " [ 12. 110.]\n",
            " [ 11. 105.]\n",
            " [  9.  94.]\n",
            " [  9.  95.]\n",
            " [ 10.  99.]\n",
            " [ 11. 104.]\n",
            " [ 12. 108.]\n",
            " [ 11. 105.]\n",
            " [ 10.  98.]\n",
            " [ 11. 103.]\n",
            " [ 12. 110.]]\n",
            "[[ 1.   9.  62.   1. ]\n",
            " [ 1.   8.  58.   1.3]\n",
            " [ 1.   7.  64.   1.2]\n",
            " [ 1.  14.  60.   0.8]\n",
            " [ 1.  12.  63.   0.8]\n",
            " [ 1.  10.  57.   0.9]\n",
            " [ 1.   7.  55.   1. ]\n",
            " [ 1.   4.  56.   1.2]\n",
            " [ 1.   6.  59.   1.1]\n",
            " [ 1.   5.  61.   1. ]\n",
            " [ 1.   7.  57.   1.2]\n",
            " [ 1.   6.  60.   1.2]]\n",
            "multi1: [[1.2000e+01 9.5000e+01 7.1200e+02 1.2700e+01]\n",
            " [9.5000e+01 8.4500e+02 5.6630e+03 9.6600e+01]\n",
            " [7.1200e+02 5.6630e+03 4.2334e+04 7.5240e+02]\n",
            " [1.2700e+01 9.6600e+01 7.5240e+02 1.3750e+01]]\n",
            "inverse: [[ 5.48122405e+01 -3.05443019e-01 -7.05023338e-01 -9.90182539e+00]\n",
            " [-3.05443019e-01  2.43950451e-02 -3.43043164e-03  2.98445219e-01]\n",
            " [-7.05023338e-01 -3.43043164e-03  1.23150084e-02  1.40827427e-03]\n",
            " [-9.90182539e+00  2.98445219e-01  1.40827427e-03  7.04463918e+00]]\n",
            "multi2 :\n",
            "[[  128.   1231. ]\n",
            " [  987.   9622. ]\n",
            " [ 7580.  72980. ]\n",
            " [  137.3  1312. ]]\n",
            "beta: [[ 1.08969952e+01  9.10971989e+01]\n",
            " [-4.49402884e-02 -6.40072328e-02]\n",
            " [-8.77035871e-02 -2.94373672e-01]\n",
            " [ 5.03545972e+00  2.78353035e+01]]\n",
            "10.896995240654405\n",
            "91.09719893467627\n",
            "[[10.090369971545567, 11.996762525275855, 11.011935318973048, 9.033983758939703, 8.860753574564725, 9.980401646045916, 10.79417565770581, 11.848384880579609, 10.991847570258987, 10.357834712170266, 11.625860428347703, 11.407689955579931], [100.10526966896114, 109.6973626368486, 105.21159748875897, 94.80692015084665, 94.0518136005046, 98.72960044691087, 102.29389983824068, 107.75860856277288, 103.96394273225312, 100.65567227201214, 107.27221319249409, 106.45309940937983]]\n",
            "[[ 10.09036997 100.10526967]\n",
            " [ 11.99676253 109.69736264]\n",
            " [ 11.01193532 105.21159749]\n",
            " [  9.03398376  94.80692015]\n",
            " [  8.86075357  94.0518136 ]\n",
            " [  9.98040165  98.72960045]\n",
            " [ 10.79417566 102.29389984]\n",
            " [ 11.84838488 107.75860856]\n",
            " [ 10.99184757 103.96394273]\n",
            " [ 10.35783471 100.65567227]\n",
            " [ 11.62586043 107.27221319]\n",
            " [ 11.40768996 106.45309941]]\n",
            "(12, 2)\n",
            "(12, 2)\n",
            "substraction: [[-9.03699715e-02 -1.05269669e-01]\n",
            " [ 3.23747472e-03  3.02637363e-01]\n",
            " [-1.19353190e-02 -2.11597489e-01]\n",
            " [-3.39837589e-02 -8.06920151e-01]\n",
            " [ 1.39246425e-01  9.48186399e-01]\n",
            " [ 1.95983540e-02  2.70399553e-01]\n",
            " [ 2.05824342e-01  1.70610016e+00]\n",
            " [ 1.51615119e-01  2.41391437e-01]\n",
            " [ 8.15242974e-03  1.03605727e+00]\n",
            " [-3.57834712e-01 -2.65567227e+00]\n",
            " [-6.25860428e-01 -4.27221319e+00]\n",
            " [ 5.92310044e-01  3.54690059e+00]]\n",
            "beta trans: [[ 1.08969952e+01 -4.49402884e-02 -8.77035871e-02  5.03545972e+00]\n",
            " [ 9.10971989e+01 -6.40072328e-02 -2.94373672e-01  2.78353035e+01]]\n",
            "y 1  is a bad fit\n",
            "using anova:\n",
            "msr for y 1 -0.2231894270004219\n",
            "mse for y 1 0.12065545441742957\n",
            "faclculated: -1.8498080180300622\n",
            "table value is : 4.06618055135116\n",
            "we accept the y 1 acccording to anova\n",
            "y 1 : beta  0 is contributiing to model\n",
            "y 1 : beta  1 is not contributing to model\n",
            "y 1 : beta  2 is not contributing to model\n",
            "y 1 : beta  3 is contributiing to model\n",
            "y 2  is a good fit\n",
            "using anova:\n",
            "msr for y 2 169.4382806160272\n",
            "mse for y 2 5.462263112317256\n",
            "faclculated: 31.019794750265408\n",
            "table value is : 4.06618055135116\n",
            "we reject the y 2 according to anova\n",
            "y 2 : beta  0 is contributiing to model\n",
            "y 2 : beta  1 is not contributing to model\n",
            "y 2 : beta  2 is not contributing to model\n",
            "y 2 : beta  3 is contributiing to model\n"
          ]
        }
      ]
    },
    {
      "cell_type": "code",
      "source": [
        "y1=eval(10.897-0.045x1-0.087x2+5.035x3)\n",
        "print(y1)"
      ],
      "metadata": {
        "colab": {
          "base_uri": "https://localhost:8080/",
          "height": 130
        },
        "id": "fOYmEX0UvmNV",
        "outputId": "6f5deb0c-7cf2-4afe-cf43-80e87e72dd4f"
      },
      "execution_count": null,
      "outputs": [
        {
          "output_type": "error",
          "ename": "SyntaxError",
          "evalue": "ignored",
          "traceback": [
            "\u001b[0;36m  File \u001b[0;32m\"<ipython-input-26-aeeb77454896>\"\u001b[0;36m, line \u001b[0;32m1\u001b[0m\n\u001b[0;31m    y1=eval(10.897-0.045x1-0.087x2+5.035x3)\u001b[0m\n\u001b[0m                         ^\u001b[0m\n\u001b[0;31mSyntaxError\u001b[0m\u001b[0;31m:\u001b[0m invalid syntax\n"
          ]
        }
      ]
    },
    {
      "cell_type": "code",
      "source": [
        "s=np.dot(xtrans,x)\n",
        "print(\"s:\",s)\n",
        "ins=np.linalg.inv(s)\n",
        "print(\"ins:\",ins)\n",
        "z=np.dot(xtrans,y)\n",
        "print(z)\n",
        "print(np.dot(ins,z))"
      ],
      "metadata": {
        "colab": {
          "base_uri": "https://localhost:8080/"
        },
        "id": "7jNTAW7pdCKq",
        "outputId": "9a35bb1f-cbdb-4043-d62b-77f3a27d4d77"
      },
      "execution_count": null,
      "outputs": [
        {
          "output_type": "stream",
          "name": "stdout",
          "text": [
            "s: [[1.2000e+01 9.5000e+01 7.1200e+02 1.2700e+01]\n",
            " [9.5000e+01 8.4500e+02 5.6630e+03 9.6600e+01]\n",
            " [7.1200e+02 5.6630e+03 4.2334e+04 7.5240e+02]\n",
            " [1.2700e+01 9.6600e+01 7.5240e+02 1.3750e+01]]\n",
            "ins: [[ 5.48122405e+01 -3.05443019e-01 -7.05023338e-01 -9.90182539e+00]\n",
            " [-3.05443019e-01  2.43950451e-02 -3.43043164e-03  2.98445219e-01]\n",
            " [-7.05023338e-01 -3.43043164e-03  1.23150084e-02  1.40827427e-03]\n",
            " [-9.90182539e+00  2.98445219e-01  1.40827427e-03  7.04463918e+00]]\n",
            "[[  128.   1231. ]\n",
            " [  987.   9622. ]\n",
            " [ 7580.  72980. ]\n",
            " [  137.3  1312. ]]\n",
            "[[ 1.08969952e+01  9.10971989e+01]\n",
            " [-4.49402884e-02 -6.40072328e-02]\n",
            " [-8.77035871e-02 -2.94373672e-01]\n",
            " [ 5.03545972e+00  2.78353035e+01]]\n"
          ]
        }
      ]
    },
    {
      "cell_type": "code",
      "source": [],
      "metadata": {
        "colab": {
          "base_uri": "https://localhost:8080/",
          "height": 182
        },
        "id": "iK8QwD861A1r",
        "outputId": "e0146d46-50c3-4fb5-d694-712201897e34"
      },
      "execution_count": null,
      "outputs": [
        {
          "output_type": "error",
          "ename": "NameError",
          "evalue": "ignored",
          "traceback": [
            "\u001b[0;31m---------------------------------------------------------------------------\u001b[0m",
            "\u001b[0;31mNameError\u001b[0m                                 Traceback (most recent call last)",
            "\u001b[0;32m<ipython-input-13-2400c715f96b>\u001b[0m in \u001b[0;36m<module>\u001b[0;34m\u001b[0m\n\u001b[1;32m      1\u001b[0m \u001b[0ml\u001b[0m\u001b[0;34m=\u001b[0m\u001b[0;34m[\u001b[0m\u001b[0;36m1\u001b[0m\u001b[0;34m,\u001b[0m\u001b[0;36m2\u001b[0m\u001b[0;34m,\u001b[0m\u001b[0;36m3\u001b[0m\u001b[0;34m,\u001b[0m\u001b[0;36m4\u001b[0m\u001b[0;34m,\u001b[0m\u001b[0;36m5\u001b[0m\u001b[0;34m,\u001b[0m\u001b[0;36m6\u001b[0m\u001b[0;34m]\u001b[0m\u001b[0;34m\u001b[0m\u001b[0;34m\u001b[0m\u001b[0m\n\u001b[0;32m----> 2\u001b[0;31m \u001b[0mprint\u001b[0m\u001b[0;34m(\u001b[0m\u001b[0mmean\u001b[0m\u001b[0;34m(\u001b[0m\u001b[0ml\u001b[0m\u001b[0;34m)\u001b[0m\u001b[0;34m)\u001b[0m\u001b[0;34m\u001b[0m\u001b[0;34m\u001b[0m\u001b[0m\n\u001b[0m",
            "\u001b[0;31mNameError\u001b[0m: name 'mean' is not defined"
          ]
        }
      ]
    }
  ]
}