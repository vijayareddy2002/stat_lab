{
  "nbformat": 4,
  "nbformat_minor": 0,
  "metadata": {
    "colab": {
      "provenance": [],
      "collapsed_sections": [],
      "authorship_tag": "ABX9TyMgOqrz//dhriyPAkAfyEHz",
      "include_colab_link": true
    },
    "kernelspec": {
      "name": "python3",
      "display_name": "Python 3"
    },
    "language_info": {
      "name": "python"
    }
  },
  "cells": [
    {
      "cell_type": "markdown",
      "metadata": {
        "id": "view-in-github",
        "colab_type": "text"
      },
      "source": [
        "<a href=\"https://colab.research.google.com/github/vijayareddy2002/stat_lab/blob/main/PCA_factor.ipynb\" target=\"_parent\"><img src=\"https://colab.research.google.com/assets/colab-badge.svg\" alt=\"Open In Colab\"/></a>"
      ]
    },
    {
      "cell_type": "code",
      "source": [
        "#reading inputs\n",
        "import numpy as np\n",
        "t=int(input(\"enter no of columns\"))\n",
        "#l=[[2,1,0,-1],[4,3,1,0.5]]\n",
        "l=[]\n",
        "for i in range(0,t):\n",
        "  s=input()\n",
        "  k=[float(i) for i in s.split(\" \")]\n",
        "  l.append(k)\n",
        "print(l)\n",
        "a=np.array(l)\n",
        "a=np.transpose(a)\n",
        "mu=np.mean(a,axis=0)\n",
        "print(\"mean matrix:\")\n",
        "print(mu)\n",
        "dif=np.subtract(a,mu)\n",
        "c=(np.dot(np.transpose(dif),dif)/len(l[0]))\n",
        "print(c)\n",
        "eigval,eigvec=np.linalg.eig(c)\n",
        "print(\"before eigen values\")\n",
        "print(eigval)\n",
        "print(eigvec)\n",
        "ind=eigval.argsort()[::-1]\n",
        "print(\"after sorting\")\n",
        "eigval=eigval[ind]\n",
        "eigvec=eigvec[:,ind]\n",
        "print(\"new eigen vals \")\n",
        "print(eigval)\n",
        "print(eigvec)\n",
        "s_1=sum(eigval)\n",
        "print(s_1)\n",
        "t=0\n",
        "finaleig=[]\n",
        "thres=float(input(\"enter threshold\"))\n",
        "for i in range(0,len(eigval)):\n",
        "    g=sum(eigval[0:i+1])\n",
        "    h=(g/s_1)*100\n",
        "    if h <= thres:\n",
        "        t=t+1\n",
        "finaleig.append(eigvec[:t+1])\n",
        "print(finaleig)\n",
        "#multiplying with x1 and x2 and get reducted values\n",
        "red=[]\n",
        "for i in range(0,t+1):\n",
        "    z1=[]\n",
        "    for j in range(0,len(a)):\n",
        "         sum_1=0\n",
        "         for k in range(0,len(a[j])):\n",
        "                 sum_1+=eigvec[i][k]*a[j][k]\n",
        "         z1.append(sum_1)\n",
        "    red.append(z1)\n",
        "print(red)"
      ],
      "metadata": {
        "colab": {
          "base_uri": "https://localhost:8080/"
        },
        "id": "9fZj9VQl2Dek",
        "outputId": "ca98bc5e-9620-4142-a363-0d1ca4757a94"
      },
      "execution_count": null,
      "outputs": [
        {
          "output_type": "stream",
          "name": "stdout",
          "text": [
            "enter no of columns3\n",
            "90 90 60 60 30\n",
            "60 90 60 60 30\n",
            "90 30 60 90 30\n",
            "[[90.0, 90.0, 60.0, 60.0, 30.0], [60.0, 90.0, 60.0, 60.0, 30.0], [90.0, 30.0, 60.0, 90.0, 30.0]]\n",
            "mean matrix:\n",
            "[66. 60. 60.]\n",
            "[[504. 360. 180.]\n",
            " [360. 360.   0.]\n",
            " [180.   0. 720.]]\n",
            "before eigen values\n",
            "[ 44.81966028 910.06995304 629.11038668]\n",
            "[[ 0.6487899  -0.65580225 -0.3859988 ]\n",
            " [-0.74104991 -0.4291978  -0.51636642]\n",
            " [-0.17296443 -0.62105769  0.7644414 ]]\n",
            "after sorting\n",
            "new eigen vals \n",
            "[910.06995304 629.11038668  44.81966028]\n",
            "[[-0.74104991 -0.4291978  -0.51636642]\n",
            " [-0.17296443 -0.62105769  0.7644414 ]\n",
            " [ 0.6487899  -0.65580225 -0.3859988 ]]\n",
            "1584.0000000000005\n",
            "enter threshold95.0\n",
            "[array([[-0.74104991, -0.4291978 , -0.51636642],\n",
            "       [-0.17296443, -0.62105769,  0.7644414 ]])]\n",
            "[[-138.91933759003626, -120.81328642320372, -101.19684765766459, -116.68784018931119, -50.598423828832296], [15.969465958778883, -48.5287486730182, -1.7748431526436406, 21.158398819382725, -0.8874215763218203]]\n"
          ]
        }
      ]
    },
    {
      "cell_type": "markdown",
      "source": [
        "enter no of columns2\n",
        "2 1 0 -1\n",
        "4 3 1 0.5\n",
        "[[2.0, 1.0, 0.0, -1.0], [4.0, 3.0, 1.0, 0.5]]\n",
        "mean matrix:\n",
        "[0.5   2.125]\n",
        "[[1.25     1.5625  ]\n",
        " [1.5625   2.046875]]\n",
        "before eigen values\n",
        "[0.03593674 3.26093826]\n",
        "[[-0.78964958 -0.6135581 ]\n",
        " [ 0.6135581  -0.78964958]]\n",
        "after sorting\n",
        "new eigen vals \n",
        "[3.26093826 0.03593674]\n",
        "[[ 0.6135581  -0.78964958]\n",
        " [-0.78964958 -0.6135581 ]]\n",
        "3.2968750000000004\n",
        "enter threshold95.0\n",
        "[array([[ 0.6135581 , -0.78964958]])]\n",
        "[[-1.9314820988922412, -1.7553906259205196, -0.789649576474399, -1.008382891739877]]"
      ],
      "metadata": {
        "id": "NIFYcwF17dzh"
      }
    },
    {
      "cell_type": "code",
      "source": [
        "#factor analysis\n",
        "import numpy as np\n",
        "import math \n",
        "'''t=int(input(\"enter the no of columns:\"))\n",
        "l=[]\n",
        "for i in range(0,t):\n",
        "  d=input()\n",
        "  d=[float(i) for i in d.split(\" \")]\n",
        "  l.append(d)'''\n",
        "l=[[3,7,10,3,10],[6,3,9,9,6],[5,3,8,7,5]]\n",
        "a=np.array(l)\n",
        "mean_1=np.mean(a,axis=1)\n",
        "print(mean_1)\n",
        "standard_devia=np.std(a,axis=1)\n",
        "print(standard_devia)\n",
        "a=np.transpose(a)\n",
        "sd_matrix=(np.subtract(a,mean_1))/standard_devia\n",
        "print(sd_matrix)\n",
        "print(\"varience-covarience matrix:\")\n",
        "c=np.dot(np.transpose(sd_matrix),sd_matrix)/len(l[0])\n",
        "print(c)\n",
        "eigval,eigvec=np.linalg.eig(c)\n",
        "print(\"eigen values:\")\n",
        "print(eigval)\n",
        "print(\"eigen vectors\")\n",
        "print(eigvec)\n",
        "indexes=eigval.argsort()[::-1]\n",
        "eigval=eigval[indexes]\n",
        "eigvec=eigvec[:,indexes]\n",
        "print(\"after the descending order:\")\n",
        "print(eigval)\n",
        "print(eigvec)\n",
        "print(\"deciding factor:\")\n",
        "s_1=sum(eigval)\n",
        "print(\"sum of lambdas\")\n",
        "print(s_1)\n",
        "t=0\n",
        "finaleig=[]\n",
        "thres=float(input(\"enter threshold\"))\n",
        "for i in range(0,len(eigval)):\n",
        "    g=sum(eigval[0:i+1])\n",
        "    h=(g/s_1)*100\n",
        "    if h <= thres:\n",
        "        t=t+1\n",
        "print(\"no of lambda vals:\",t)\n",
        "z1=[]\n",
        "for i in range(0,t+1):\n",
        "   print(\"for factor\",(i+1))\n",
        "   z=math.pow(eigval[i],0.5)\n",
        "   z1.append(np.dot(z,eigvec[i]))\n",
        "k=np.array(z1)\n",
        "k=np.transpose(k)\n",
        "print(k)\n",
        "p=[]\n",
        "for i in range(0,len(k)):\n",
        "  s_3=0\n",
        "  for j in range(0,len(k[i])):\n",
        "    s_3+=k[i][j]**2\n",
        "  p.append(s_3)\n",
        "k_1=sum(p)\n",
        "print(\"sum of communalities\")\n",
        "print(k_1)\n",
        "for i in range(0,t+1):\n",
        "  y=eigval[i]\n",
        "  print(\"varience of explained\",(i+1))\n",
        "  print(y/k_1)\n",
        "'''for i in range(0,len(mean_1)):\n",
        "  for j in range(0,len(a))'''"
      ],
      "metadata": {
        "id": "yF-tj5_07hp5",
        "colab": {
          "base_uri": "https://localhost:8080/",
          "height": 695
        },
        "outputId": "f82842c0-2f55-4ad8-f908-705e7b002edd"
      },
      "execution_count": null,
      "outputs": [
        {
          "output_type": "stream",
          "name": "stdout",
          "text": [
            "[6.6 6.6 5.6]\n",
            "[3.13687743 2.24499443 1.74355958]\n",
            "[[-1.14763808 -0.26726124 -0.3441236 ]\n",
            " [ 0.12751534 -1.60356745 -1.49120227]\n",
            " [ 1.08388041  1.06904497  1.3764944 ]\n",
            " [-1.14763808  1.06904497  0.80295507]\n",
            " [ 1.08388041 -0.26726124 -0.3441236 ]]\n",
            "varience-covarience matrix:\n",
            "[[ 1.         -0.05111986  0.08044857]\n",
            " [-0.05111986  1.          0.98102294]\n",
            " [ 0.08044857  0.98102294  1.        ]]\n",
            "eigen values:\n",
            "[0.01023054 1.00830633 1.98146313]\n",
            "eigen vectors\n",
            "[[-0.09360247 -0.99538347  0.0212208 ]\n",
            " [-0.70330551  0.08119286  0.70623585]\n",
            " [ 0.70469847 -0.05118071  0.70765853]]\n",
            "after the descending order:\n",
            "[1.98146313 1.00830633 0.01023054]\n",
            "[[ 0.0212208  -0.99538347 -0.09360247]\n",
            " [ 0.70623585  0.08119286 -0.70330551]\n",
            " [ 0.70765853 -0.05118071  0.70469847]]\n",
            "deciding factor:\n",
            "sum of lambdas\n",
            "3.0\n",
            "enter threshold99.0\n",
            "no of lambda vals: 1\n",
            "for factor 1\n",
            "for factor 2\n",
            "[[ 0.02987135  0.7091629 ]\n",
            " [-1.4011461   0.08152937]\n",
            " [-0.13175901 -0.70622041]]\n",
            "sum of communalities\n",
            "2.98976945999714\n",
            "varience of explained 1\n",
            "0.6627477995537312\n",
            "varience of explained 2\n",
            "0.3372522004462688\n"
          ]
        },
        {
          "output_type": "execute_result",
          "data": {
            "text/plain": [
              "'for i in range(0,len(mean_1)):\\n  for j in range(0,len(a))'"
            ],
            "application/vnd.google.colaboratory.intrinsic+json": {
              "type": "string"
            }
          },
          "metadata": {},
          "execution_count": 29
        }
      ]
    },
    {
      "cell_type": "markdown",
      "source": [],
      "metadata": {
        "id": "fN-bekSVS9W2"
      }
    }
  ]
}