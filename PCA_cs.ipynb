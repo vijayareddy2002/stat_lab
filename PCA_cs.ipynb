{
  "nbformat": 4,
  "nbformat_minor": 0,
  "metadata": {
    "colab": {
      "provenance": [],
      "collapsed_sections": [],
      "authorship_tag": "ABX9TyMj3J4RbZ/AvksXliu/IK6S",
      "include_colab_link": true
    },
    "kernelspec": {
      "name": "python3",
      "display_name": "Python 3"
    },
    "language_info": {
      "name": "python"
    }
  },
  "cells": [
    {
      "cell_type": "markdown",
      "metadata": {
        "id": "view-in-github",
        "colab_type": "text"
      },
      "source": [
        "<a href=\"https://colab.research.google.com/github/vijayareddy2002/stat_lab/blob/main/PCA_cs.ipynb\" target=\"_parent\"><img src=\"https://colab.research.google.com/assets/colab-badge.svg\" alt=\"Open In Colab\"/></a>"
      ]
    },
    {
      "cell_type": "code",
      "source": [
        "#reading inputs\n",
        "import numpy as np\n",
        "t=int(input(\"enter no of columns\"))\n",
        "#l=[[2,1,0,-1],[4,3,1,0.5]]\n",
        "l=[]\n",
        "for i in range(0,t):\n",
        "  s=input()\n",
        "  k=[float(i) for i in s.split(\" \")]\n",
        "  l.append(k)\n",
        "print(l)\n",
        "a=np.array(l)\n",
        "a=np.transpose(a)\n",
        "mu=np.mean(a,axis=0)\n",
        "print(\"mean matrix:\")\n",
        "print(mu)\n",
        "dif=np.subtract(a,mu)\n",
        "c=(np.dot(np.transpose(dif),dif)/len(l[0]))\n",
        "print(c)\n",
        "eigval,eigvec=np.linalg.eig(c)\n",
        "print(\"before eigen values\")\n",
        "print(eigval)\n",
        "print(eigvec)\n",
        "ind=eigval.argsort()[::-1]\n",
        "print(\"after sorting\")\n",
        "eigval=eigval[ind]\n",
        "eigvec=eigvec[ind]\n",
        "print(\"new eigen vals \")\n",
        "print(eigval)\n",
        "print(eigvec)\n",
        "s_1=sum(eigval)\n",
        "print(s_1)\n",
        "t=0\n",
        "finaleig=[]\n",
        "thres=float(input(\"enter threshold\"))\n",
        "for i in range(0,len(eigval)):\n",
        "    g=sum(eigval[0:i+1])\n",
        "    h=(g/s_1)*100\n",
        "    if h <= thres:\n",
        "        t=t+1\n",
        "finaleig.append(eigvec[:t+1])\n",
        "print(finaleig)\n",
        "#multiplying with x1 and x2 and get reducted values\n",
        "red=[]\n",
        "for i in range(0,t+1):\n",
        "    z1=[]\n",
        "    for j in range(0,len(a)):\n",
        "         sum_1=0\n",
        "         for k in range(0,len(a[j])):\n",
        "                 sum_1+=eigvec[i][k]*a[j][k]\n",
        "         z1.append(sum_1)\n",
        "    red.append(z1)\n",
        "print(red)"
      ],
      "metadata": {
        "colab": {
          "base_uri": "https://localhost:8080/"
        },
        "id": "9fZj9VQl2Dek",
        "outputId": "ca98bc5e-9620-4142-a363-0d1ca4757a94"
      },
      "execution_count": null,
      "outputs": [
        {
          "output_type": "stream",
          "name": "stdout",
          "text": [
            "enter no of columns3\n",
            "90 90 60 60 30\n",
            "60 90 60 60 30\n",
            "90 30 60 90 30\n",
            "[[90.0, 90.0, 60.0, 60.0, 30.0], [60.0, 90.0, 60.0, 60.0, 30.0], [90.0, 30.0, 60.0, 90.0, 30.0]]\n",
            "mean matrix:\n",
            "[66. 60. 60.]\n",
            "[[504. 360. 180.]\n",
            " [360. 360.   0.]\n",
            " [180.   0. 720.]]\n",
            "before eigen values\n",
            "[ 44.81966028 910.06995304 629.11038668]\n",
            "[[ 0.6487899  -0.65580225 -0.3859988 ]\n",
            " [-0.74104991 -0.4291978  -0.51636642]\n",
            " [-0.17296443 -0.62105769  0.7644414 ]]\n",
            "after sorting\n",
            "new eigen vals \n",
            "[910.06995304 629.11038668  44.81966028]\n",
            "[[-0.74104991 -0.4291978  -0.51636642]\n",
            " [-0.17296443 -0.62105769  0.7644414 ]\n",
            " [ 0.6487899  -0.65580225 -0.3859988 ]]\n",
            "1584.0000000000005\n",
            "enter threshold95.0\n",
            "[array([[-0.74104991, -0.4291978 , -0.51636642],\n",
            "       [-0.17296443, -0.62105769,  0.7644414 ]])]\n",
            "[[-138.91933759003626, -120.81328642320372, -101.19684765766459, -116.68784018931119, -50.598423828832296], [15.969465958778883, -48.5287486730182, -1.7748431526436406, 21.158398819382725, -0.8874215763218203]]\n"
          ]
        }
      ]
    },
    {
      "cell_type": "markdown",
      "source": [
        "enter no of columns2\n",
        "2 1 0 -1\n",
        "4 3 1 0.5\n",
        "[[2.0, 1.0, 0.0, -1.0], [4.0, 3.0, 1.0, 0.5]]\n",
        "mean matrix:\n",
        "[0.5   2.125]\n",
        "[[1.25     1.5625  ]\n",
        " [1.5625   2.046875]]\n",
        "before eigen values\n",
        "[0.03593674 3.26093826]\n",
        "[[-0.78964958 -0.6135581 ]\n",
        " [ 0.6135581  -0.78964958]]\n",
        "after sorting\n",
        "new eigen vals \n",
        "[3.26093826 0.03593674]\n",
        "[[ 0.6135581  -0.78964958]\n",
        " [-0.78964958 -0.6135581 ]]\n",
        "3.2968750000000004\n",
        "enter threshold95.0\n",
        "[array([[ 0.6135581 , -0.78964958]])]\n",
        "[[-1.9314820988922412, -1.7553906259205196, -0.789649576474399, -1.008382891739877]]"
      ],
      "metadata": {
        "id": "NIFYcwF17dzh"
      }
    },
    {
      "cell_type": "code",
      "source": [],
      "metadata": {
        "id": "yF-tj5_07hp5"
      },
      "execution_count": null,
      "outputs": []
    }
  ]
}